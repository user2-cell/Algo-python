{
  "nbformat": 4,
  "nbformat_minor": 0,
  "metadata": {
    "colab": {
      "provenance": []
    },
    "kernelspec": {
      "name": "python3",
      "display_name": "Python 3"
    },
    "language_info": {
      "name": "python"
    }
  },
  "cells": [
    {
      "cell_type": "code",
      "source": [
        "count = 0\n",
        "while count < 5:\n",
        "    print(count)\n",
        "    count = count + '1\n",
        "#prints from 0 to 4"
      ],
      "metadata": {
        "colab": {
          "base_uri": "https://localhost:8080/"
        },
        "id": "WeQ3dsKThTxb",
        "outputId": "16c1f1d2-387f-41ef-f08b-a0d1b638cbb7"
      },
      "execution_count": 2,
      "outputs": [
        {
          "output_type": "stream",
          "name": "stdout",
          "text": [
            "0\n",
            "1\n",
            "2\n",
            "3\n",
            "4\n"
          ]
        }
      ]
    },
    {
      "cell_type": "code",
      "source": [
        "count = 0\n",
        "while count < 5:\n",
        "    print(count)\n",
        "    count = count + 1\n",
        "    if count == 3:\n",
        "        break\n",
        "    else:\n",
        "      print(\"valeur finale de court:\",count)\n",
        "\n",
        "\n",
        "\n",
        "\n",
        "\n",
        "      print(\"apres valeur finale de court:\", count )\n",
        "#prints from 0 to 4"
      ],
      "metadata": {
        "colab": {
          "base_uri": "https://localhost:8080/"
        },
        "id": "o9s249ekhtS_",
        "outputId": "881c4ed6-de63-4928-ecd9-79785d330015"
      },
      "execution_count": 4,
      "outputs": [
        {
          "output_type": "stream",
          "name": "stdout",
          "text": [
            "0\n",
            "valeur finale de court: 1\n",
            "apres valeur finale de court: 1\n",
            "1\n",
            "valeur finale de court: 2\n",
            "apres valeur finale de court: 2\n",
            "2\n"
          ]
        }
      ]
    },
    {
      "cell_type": "code",
      "source": [
        "numbers = [0, 1, 2, 3, 4, 5]\n",
        "for number in numbers: # number is temporary name to refer to the list's items, valid only inside this loop\n",
        "    if number %2==1:\n",
        "      print( number) # the numbers will be printed line by line, from 0 to 5"
      ],
      "metadata": {
        "colab": {
          "base_uri": "https://localhost:8080/"
        },
        "id": "QmQu0w_cjRM3",
        "outputId": "2e056801-b02e-4325-8f93-5ac8ff08bcf8"
      },
      "execution_count": 7,
      "outputs": [
        {
          "output_type": "stream",
          "name": "stdout",
          "text": [
            "1\n",
            "3\n",
            "5\n"
          ]
        }
      ]
    },
    {
      "cell_type": "code",
      "source": [
        "language = 'Python'\n",
        "for letter in language:\n",
        "    print(letter)\n",
        "\n",
        "\n",
        "for i in range(len(language)):\n",
        "    print(language[i])"
      ],
      "metadata": {
        "colab": {
          "base_uri": "https://localhost:8080/"
        },
        "id": "6P8smwAgjnzD",
        "outputId": "c62d6f8a-2382-4523-dc76-5c4591b11fbc"
      },
      "execution_count": 8,
      "outputs": [
        {
          "output_type": "stream",
          "name": "stdout",
          "text": [
            "P\n",
            "y\n",
            "t\n",
            "h\n",
            "o\n",
            "n\n",
            "P\n",
            "y\n",
            "t\n",
            "h\n",
            "o\n",
            "n\n"
          ]
        }
      ]
    },
    {
      "cell_type": "code",
      "source": [
        "person = {\n",
        "    'first_name':'IKRAM',\n",
        "    'last_name':'Khouya',\n",
        "    'age':20,\n",
        "    'country':'MAROC',\n",
        "    'is_marred':False,\n",
        "    'skills':['JavaScript', 'React', 'Node', 'MongoDB', 'Python'],\n",
        "    'address':{\n",
        "        'street':'Space street',\n",
        "        'zipcode':'02210'\n",
        "    }\n",
        "}\n",
        "for key in person:\n",
        "    print(key)\n",
        "\n",
        "for key, value in person.items():\n",
        "    print(key, value) # this way we get both keys and values printed out"
      ],
      "metadata": {
        "colab": {
          "base_uri": "https://localhost:8080/"
        },
        "id": "w-YBcEvNkd5u",
        "outputId": "1c1b85fe-84e3-4801-96b3-e48ee5974ae2"
      },
      "execution_count": 10,
      "outputs": [
        {
          "output_type": "stream",
          "name": "stdout",
          "text": [
            "first_name\n",
            "last_name\n",
            "age\n",
            "country\n",
            "is_marred\n",
            "skills\n",
            "address\n",
            "first_name IKRAM\n",
            "last_name Khouya\n",
            "age 20\n",
            "country MAROC\n",
            "is_marred False\n",
            "skills ['JavaScript', 'React', 'Node', 'MongoDB', 'Python']\n",
            "address {'street': 'Space street', 'zipcode': '02210'}\n"
          ]
        }
      ]
    },
    {
      "cell_type": "code",
      "source": [
        "person1 = {\n",
        "    'first_name':'IKRAM',\n",
        "    'last_name':'Khouya',\n",
        "    'age':20,\n",
        "    'country':'MAROC',\n",
        "    'is_marred':False,\n",
        "    'skills':['JavaScript', 'React', 'Node', 'MongoDB', 'Python'],\n",
        "    'address':{\n",
        "        'street':'Space street',\n",
        "        'zipcode':'02210'\n",
        "    }}\n",
        "person2 = {\n",
        "    'first_name':'IKRAM',\n",
        "    'last_name':'Khouya',\n",
        "    'age':20,\n",
        "    'country':'MAROC',\n",
        "    'is_marred':False,\n",
        "    'skills':['JavaScript', 'React', 'Node', 'MongoDB', 'Python'],\n",
        "    'address':{\n",
        "        'street':'Space street',\n",
        "        'zipcode':'02210'\n",
        "    }}\n",
        "\n",
        "\n",
        "person3 ={\n",
        "    'first_name':'IKRAM',\n",
        "    'last_name':'Khouya',\n",
        "    'age':20,\n",
        "    'country':'MAROC',\n",
        "    'is_marred':False,\n",
        "    'skills':['JavaScript', 'React', 'Node', 'MongoDB', 'Python'],\n",
        "    'address':{\n",
        "        'street':'Space street',\n",
        "        'zipcode':'02210'\n",
        "    }\n",
        "}\n",
        ""
      ],
      "metadata": {
        "id": "C1mf9RNCmkL3"
      },
      "execution_count": 22,
      "outputs": []
    },
    {
      "cell_type": "code",
      "source": [
        "d = {1: person1, 2: person2, 3: person3} # Create a dictionary with the person data\n",
        "\n",
        "for p in d:\n",
        "    print(d[p])"
      ],
      "metadata": {
        "colab": {
          "base_uri": "https://localhost:8080/"
        },
        "id": "7QDPCtqhqEDK",
        "outputId": "c2a0c0b9-3013-411c-acbc-a871419d1d4a"
      },
      "execution_count": 26,
      "outputs": [
        {
          "output_type": "stream",
          "name": "stdout",
          "text": [
            "{'first_name': 'IKRAM', 'last_name': 'Khouya', 'age': 20, 'country': 'MAROC', 'is_marred': False, 'skills': ['JavaScript', 'React', 'Node', 'MongoDB', 'Python'], 'address': {'street': 'Space street', 'zipcode': '02210'}}\n",
            "{'first_name': 'IKRAM', 'last_name': 'Khouya', 'age': 20, 'country': 'MAROC', 'is_marred': False, 'skills': ['JavaScript', 'React', 'Node', 'MongoDB', 'Python'], 'address': {'street': 'Space street', 'zipcode': '02210'}}\n",
            "{'first_name': 'IKRAM', 'last_name': 'Khouya', 'age': 20, 'country': 'MAROC', 'is_marred': False, 'skills': ['JavaScript', 'React', 'Node', 'MongoDB', 'Python'], 'address': {'street': 'Space street', 'zipcode': '02210'}}\n"
          ]
        }
      ]
    },
    {
      "cell_type": "code",
      "source": [
        "d={1:\"person1\",2:\"person2\"}\n",
        "for p in d :\n",
        "  print(d[p])"
      ],
      "metadata": {
        "colab": {
          "base_uri": "https://localhost:8080/"
        },
        "id": "E6_fiTA_mdE2",
        "outputId": "b911d17f-879c-4008-f854-6313e3d19e39"
      },
      "execution_count": 25,
      "outputs": [
        {
          "output_type": "stream",
          "name": "stdout",
          "text": [
            "person1\n",
            "person2\n"
          ]
        }
      ]
    },
    {
      "cell_type": "code",
      "source": [
        "d = {}\n",
        "\n",
        "\n",
        "subjects = ['Math', 'Physics', 'Chemistry', 'English', 'History', 'Biology', 'Computer Science']\n",
        "\n",
        "# Création de 30 étudiants avec des notes initialisées à 20\n",
        "for i in range(30):\n",
        "    d[i] = {\n",
        "        'first_name': f'Student{i+1}',\n",
        "        'last_name': 'Lastname',\n",
        "        'age': 18,\n",
        "        'country': 'Unknown',\n",
        "        'grades': {subject: [20, 20, 20, 20] for subject in subjects}\n",
        "    }\n",
        "\n",
        "\n",
        "for p in d:\n",
        "    print(f\"Student {p + 1}:\")\n",
        "    for key, value in d[p].items():\n",
        "        print(f\"{key}: {value}\")\n",
        "    print(\"\\n\" + \"-\"*50 + \"\\n\")  # Séparateur pour chaque étudiant"
      ],
      "metadata": {
        "colab": {
          "base_uri": "https://localhost:8080/"
        },
        "id": "Sgu_6DL7qL_v",
        "outputId": "ff91ebbb-11d2-43e5-c627-e39d954e186c"
      },
      "execution_count": 27,
      "outputs": [
        {
          "output_type": "stream",
          "name": "stdout",
          "text": [
            "Student 1:\n",
            "first_name: Student1\n",
            "last_name: Lastname\n",
            "age: 18\n",
            "country: Unknown\n",
            "grades: {'Math': [20, 20, 20, 20], 'Physics': [20, 20, 20, 20], 'Chemistry': [20, 20, 20, 20], 'English': [20, 20, 20, 20], 'History': [20, 20, 20, 20], 'Biology': [20, 20, 20, 20], 'Computer Science': [20, 20, 20, 20]}\n",
            "\n",
            "--------------------------------------------------\n",
            "\n",
            "Student 2:\n",
            "first_name: Student2\n",
            "last_name: Lastname\n",
            "age: 18\n",
            "country: Unknown\n",
            "grades: {'Math': [20, 20, 20, 20], 'Physics': [20, 20, 20, 20], 'Chemistry': [20, 20, 20, 20], 'English': [20, 20, 20, 20], 'History': [20, 20, 20, 20], 'Biology': [20, 20, 20, 20], 'Computer Science': [20, 20, 20, 20]}\n",
            "\n",
            "--------------------------------------------------\n",
            "\n",
            "Student 3:\n",
            "first_name: Student3\n",
            "last_name: Lastname\n",
            "age: 18\n",
            "country: Unknown\n",
            "grades: {'Math': [20, 20, 20, 20], 'Physics': [20, 20, 20, 20], 'Chemistry': [20, 20, 20, 20], 'English': [20, 20, 20, 20], 'History': [20, 20, 20, 20], 'Biology': [20, 20, 20, 20], 'Computer Science': [20, 20, 20, 20]}\n",
            "\n",
            "--------------------------------------------------\n",
            "\n",
            "Student 4:\n",
            "first_name: Student4\n",
            "last_name: Lastname\n",
            "age: 18\n",
            "country: Unknown\n",
            "grades: {'Math': [20, 20, 20, 20], 'Physics': [20, 20, 20, 20], 'Chemistry': [20, 20, 20, 20], 'English': [20, 20, 20, 20], 'History': [20, 20, 20, 20], 'Biology': [20, 20, 20, 20], 'Computer Science': [20, 20, 20, 20]}\n",
            "\n",
            "--------------------------------------------------\n",
            "\n",
            "Student 5:\n",
            "first_name: Student5\n",
            "last_name: Lastname\n",
            "age: 18\n",
            "country: Unknown\n",
            "grades: {'Math': [20, 20, 20, 20], 'Physics': [20, 20, 20, 20], 'Chemistry': [20, 20, 20, 20], 'English': [20, 20, 20, 20], 'History': [20, 20, 20, 20], 'Biology': [20, 20, 20, 20], 'Computer Science': [20, 20, 20, 20]}\n",
            "\n",
            "--------------------------------------------------\n",
            "\n",
            "Student 6:\n",
            "first_name: Student6\n",
            "last_name: Lastname\n",
            "age: 18\n",
            "country: Unknown\n",
            "grades: {'Math': [20, 20, 20, 20], 'Physics': [20, 20, 20, 20], 'Chemistry': [20, 20, 20, 20], 'English': [20, 20, 20, 20], 'History': [20, 20, 20, 20], 'Biology': [20, 20, 20, 20], 'Computer Science': [20, 20, 20, 20]}\n",
            "\n",
            "--------------------------------------------------\n",
            "\n",
            "Student 7:\n",
            "first_name: Student7\n",
            "last_name: Lastname\n",
            "age: 18\n",
            "country: Unknown\n",
            "grades: {'Math': [20, 20, 20, 20], 'Physics': [20, 20, 20, 20], 'Chemistry': [20, 20, 20, 20], 'English': [20, 20, 20, 20], 'History': [20, 20, 20, 20], 'Biology': [20, 20, 20, 20], 'Computer Science': [20, 20, 20, 20]}\n",
            "\n",
            "--------------------------------------------------\n",
            "\n",
            "Student 8:\n",
            "first_name: Student8\n",
            "last_name: Lastname\n",
            "age: 18\n",
            "country: Unknown\n",
            "grades: {'Math': [20, 20, 20, 20], 'Physics': [20, 20, 20, 20], 'Chemistry': [20, 20, 20, 20], 'English': [20, 20, 20, 20], 'History': [20, 20, 20, 20], 'Biology': [20, 20, 20, 20], 'Computer Science': [20, 20, 20, 20]}\n",
            "\n",
            "--------------------------------------------------\n",
            "\n",
            "Student 9:\n",
            "first_name: Student9\n",
            "last_name: Lastname\n",
            "age: 18\n",
            "country: Unknown\n",
            "grades: {'Math': [20, 20, 20, 20], 'Physics': [20, 20, 20, 20], 'Chemistry': [20, 20, 20, 20], 'English': [20, 20, 20, 20], 'History': [20, 20, 20, 20], 'Biology': [20, 20, 20, 20], 'Computer Science': [20, 20, 20, 20]}\n",
            "\n",
            "--------------------------------------------------\n",
            "\n",
            "Student 10:\n",
            "first_name: Student10\n",
            "last_name: Lastname\n",
            "age: 18\n",
            "country: Unknown\n",
            "grades: {'Math': [20, 20, 20, 20], 'Physics': [20, 20, 20, 20], 'Chemistry': [20, 20, 20, 20], 'English': [20, 20, 20, 20], 'History': [20, 20, 20, 20], 'Biology': [20, 20, 20, 20], 'Computer Science': [20, 20, 20, 20]}\n",
            "\n",
            "--------------------------------------------------\n",
            "\n",
            "Student 11:\n",
            "first_name: Student11\n",
            "last_name: Lastname\n",
            "age: 18\n",
            "country: Unknown\n",
            "grades: {'Math': [20, 20, 20, 20], 'Physics': [20, 20, 20, 20], 'Chemistry': [20, 20, 20, 20], 'English': [20, 20, 20, 20], 'History': [20, 20, 20, 20], 'Biology': [20, 20, 20, 20], 'Computer Science': [20, 20, 20, 20]}\n",
            "\n",
            "--------------------------------------------------\n",
            "\n",
            "Student 12:\n",
            "first_name: Student12\n",
            "last_name: Lastname\n",
            "age: 18\n",
            "country: Unknown\n",
            "grades: {'Math': [20, 20, 20, 20], 'Physics': [20, 20, 20, 20], 'Chemistry': [20, 20, 20, 20], 'English': [20, 20, 20, 20], 'History': [20, 20, 20, 20], 'Biology': [20, 20, 20, 20], 'Computer Science': [20, 20, 20, 20]}\n",
            "\n",
            "--------------------------------------------------\n",
            "\n",
            "Student 13:\n",
            "first_name: Student13\n",
            "last_name: Lastname\n",
            "age: 18\n",
            "country: Unknown\n",
            "grades: {'Math': [20, 20, 20, 20], 'Physics': [20, 20, 20, 20], 'Chemistry': [20, 20, 20, 20], 'English': [20, 20, 20, 20], 'History': [20, 20, 20, 20], 'Biology': [20, 20, 20, 20], 'Computer Science': [20, 20, 20, 20]}\n",
            "\n",
            "--------------------------------------------------\n",
            "\n",
            "Student 14:\n",
            "first_name: Student14\n",
            "last_name: Lastname\n",
            "age: 18\n",
            "country: Unknown\n",
            "grades: {'Math': [20, 20, 20, 20], 'Physics': [20, 20, 20, 20], 'Chemistry': [20, 20, 20, 20], 'English': [20, 20, 20, 20], 'History': [20, 20, 20, 20], 'Biology': [20, 20, 20, 20], 'Computer Science': [20, 20, 20, 20]}\n",
            "\n",
            "--------------------------------------------------\n",
            "\n",
            "Student 15:\n",
            "first_name: Student15\n",
            "last_name: Lastname\n",
            "age: 18\n",
            "country: Unknown\n",
            "grades: {'Math': [20, 20, 20, 20], 'Physics': [20, 20, 20, 20], 'Chemistry': [20, 20, 20, 20], 'English': [20, 20, 20, 20], 'History': [20, 20, 20, 20], 'Biology': [20, 20, 20, 20], 'Computer Science': [20, 20, 20, 20]}\n",
            "\n",
            "--------------------------------------------------\n",
            "\n",
            "Student 16:\n",
            "first_name: Student16\n",
            "last_name: Lastname\n",
            "age: 18\n",
            "country: Unknown\n",
            "grades: {'Math': [20, 20, 20, 20], 'Physics': [20, 20, 20, 20], 'Chemistry': [20, 20, 20, 20], 'English': [20, 20, 20, 20], 'History': [20, 20, 20, 20], 'Biology': [20, 20, 20, 20], 'Computer Science': [20, 20, 20, 20]}\n",
            "\n",
            "--------------------------------------------------\n",
            "\n",
            "Student 17:\n",
            "first_name: Student17\n",
            "last_name: Lastname\n",
            "age: 18\n",
            "country: Unknown\n",
            "grades: {'Math': [20, 20, 20, 20], 'Physics': [20, 20, 20, 20], 'Chemistry': [20, 20, 20, 20], 'English': [20, 20, 20, 20], 'History': [20, 20, 20, 20], 'Biology': [20, 20, 20, 20], 'Computer Science': [20, 20, 20, 20]}\n",
            "\n",
            "--------------------------------------------------\n",
            "\n",
            "Student 18:\n",
            "first_name: Student18\n",
            "last_name: Lastname\n",
            "age: 18\n",
            "country: Unknown\n",
            "grades: {'Math': [20, 20, 20, 20], 'Physics': [20, 20, 20, 20], 'Chemistry': [20, 20, 20, 20], 'English': [20, 20, 20, 20], 'History': [20, 20, 20, 20], 'Biology': [20, 20, 20, 20], 'Computer Science': [20, 20, 20, 20]}\n",
            "\n",
            "--------------------------------------------------\n",
            "\n",
            "Student 19:\n",
            "first_name: Student19\n",
            "last_name: Lastname\n",
            "age: 18\n",
            "country: Unknown\n",
            "grades: {'Math': [20, 20, 20, 20], 'Physics': [20, 20, 20, 20], 'Chemistry': [20, 20, 20, 20], 'English': [20, 20, 20, 20], 'History': [20, 20, 20, 20], 'Biology': [20, 20, 20, 20], 'Computer Science': [20, 20, 20, 20]}\n",
            "\n",
            "--------------------------------------------------\n",
            "\n",
            "Student 20:\n",
            "first_name: Student20\n",
            "last_name: Lastname\n",
            "age: 18\n",
            "country: Unknown\n",
            "grades: {'Math': [20, 20, 20, 20], 'Physics': [20, 20, 20, 20], 'Chemistry': [20, 20, 20, 20], 'English': [20, 20, 20, 20], 'History': [20, 20, 20, 20], 'Biology': [20, 20, 20, 20], 'Computer Science': [20, 20, 20, 20]}\n",
            "\n",
            "--------------------------------------------------\n",
            "\n",
            "Student 21:\n",
            "first_name: Student21\n",
            "last_name: Lastname\n",
            "age: 18\n",
            "country: Unknown\n",
            "grades: {'Math': [20, 20, 20, 20], 'Physics': [20, 20, 20, 20], 'Chemistry': [20, 20, 20, 20], 'English': [20, 20, 20, 20], 'History': [20, 20, 20, 20], 'Biology': [20, 20, 20, 20], 'Computer Science': [20, 20, 20, 20]}\n",
            "\n",
            "--------------------------------------------------\n",
            "\n",
            "Student 22:\n",
            "first_name: Student22\n",
            "last_name: Lastname\n",
            "age: 18\n",
            "country: Unknown\n",
            "grades: {'Math': [20, 20, 20, 20], 'Physics': [20, 20, 20, 20], 'Chemistry': [20, 20, 20, 20], 'English': [20, 20, 20, 20], 'History': [20, 20, 20, 20], 'Biology': [20, 20, 20, 20], 'Computer Science': [20, 20, 20, 20]}\n",
            "\n",
            "--------------------------------------------------\n",
            "\n",
            "Student 23:\n",
            "first_name: Student23\n",
            "last_name: Lastname\n",
            "age: 18\n",
            "country: Unknown\n",
            "grades: {'Math': [20, 20, 20, 20], 'Physics': [20, 20, 20, 20], 'Chemistry': [20, 20, 20, 20], 'English': [20, 20, 20, 20], 'History': [20, 20, 20, 20], 'Biology': [20, 20, 20, 20], 'Computer Science': [20, 20, 20, 20]}\n",
            "\n",
            "--------------------------------------------------\n",
            "\n",
            "Student 24:\n",
            "first_name: Student24\n",
            "last_name: Lastname\n",
            "age: 18\n",
            "country: Unknown\n",
            "grades: {'Math': [20, 20, 20, 20], 'Physics': [20, 20, 20, 20], 'Chemistry': [20, 20, 20, 20], 'English': [20, 20, 20, 20], 'History': [20, 20, 20, 20], 'Biology': [20, 20, 20, 20], 'Computer Science': [20, 20, 20, 20]}\n",
            "\n",
            "--------------------------------------------------\n",
            "\n",
            "Student 25:\n",
            "first_name: Student25\n",
            "last_name: Lastname\n",
            "age: 18\n",
            "country: Unknown\n",
            "grades: {'Math': [20, 20, 20, 20], 'Physics': [20, 20, 20, 20], 'Chemistry': [20, 20, 20, 20], 'English': [20, 20, 20, 20], 'History': [20, 20, 20, 20], 'Biology': [20, 20, 20, 20], 'Computer Science': [20, 20, 20, 20]}\n",
            "\n",
            "--------------------------------------------------\n",
            "\n",
            "Student 26:\n",
            "first_name: Student26\n",
            "last_name: Lastname\n",
            "age: 18\n",
            "country: Unknown\n",
            "grades: {'Math': [20, 20, 20, 20], 'Physics': [20, 20, 20, 20], 'Chemistry': [20, 20, 20, 20], 'English': [20, 20, 20, 20], 'History': [20, 20, 20, 20], 'Biology': [20, 20, 20, 20], 'Computer Science': [20, 20, 20, 20]}\n",
            "\n",
            "--------------------------------------------------\n",
            "\n",
            "Student 27:\n",
            "first_name: Student27\n",
            "last_name: Lastname\n",
            "age: 18\n",
            "country: Unknown\n",
            "grades: {'Math': [20, 20, 20, 20], 'Physics': [20, 20, 20, 20], 'Chemistry': [20, 20, 20, 20], 'English': [20, 20, 20, 20], 'History': [20, 20, 20, 20], 'Biology': [20, 20, 20, 20], 'Computer Science': [20, 20, 20, 20]}\n",
            "\n",
            "--------------------------------------------------\n",
            "\n",
            "Student 28:\n",
            "first_name: Student28\n",
            "last_name: Lastname\n",
            "age: 18\n",
            "country: Unknown\n",
            "grades: {'Math': [20, 20, 20, 20], 'Physics': [20, 20, 20, 20], 'Chemistry': [20, 20, 20, 20], 'English': [20, 20, 20, 20], 'History': [20, 20, 20, 20], 'Biology': [20, 20, 20, 20], 'Computer Science': [20, 20, 20, 20]}\n",
            "\n",
            "--------------------------------------------------\n",
            "\n",
            "Student 29:\n",
            "first_name: Student29\n",
            "last_name: Lastname\n",
            "age: 18\n",
            "country: Unknown\n",
            "grades: {'Math': [20, 20, 20, 20], 'Physics': [20, 20, 20, 20], 'Chemistry': [20, 20, 20, 20], 'English': [20, 20, 20, 20], 'History': [20, 20, 20, 20], 'Biology': [20, 20, 20, 20], 'Computer Science': [20, 20, 20, 20]}\n",
            "\n",
            "--------------------------------------------------\n",
            "\n",
            "Student 30:\n",
            "first_name: Student30\n",
            "last_name: Lastname\n",
            "age: 18\n",
            "country: Unknown\n",
            "grades: {'Math': [20, 20, 20, 20], 'Physics': [20, 20, 20, 20], 'Chemistry': [20, 20, 20, 20], 'English': [20, 20, 20, 20], 'History': [20, 20, 20, 20], 'Biology': [20, 20, 20, 20], 'Computer Science': [20, 20, 20, 20]}\n",
            "\n",
            "--------------------------------------------------\n",
            "\n"
          ]
        }
      ]
    },
    {
      "cell_type": "code",
      "source": [
        "for p in d:\n",
        " print(d[p])"
      ],
      "metadata": {
        "colab": {
          "base_uri": "https://localhost:8080/"
        },
        "id": "wzW1ycWaqldy",
        "outputId": "b9b4743c-311f-4091-c711-01c885010efb"
      },
      "execution_count": 31,
      "outputs": [
        {
          "output_type": "stream",
          "name": "stdout",
          "text": [
            "{'first_name': 'Student1', 'last_name': 'Lastname', 'age': 18, 'country': 'Unknown', 'grades': {'Math': [20, 20, 20, 20], 'Physics': [20, 20, 20, 20], 'Chemistry': [20, 20, 20, 20], 'English': [20, 20, 20, 20], 'History': [20, 20, 20, 20], 'Biology': [20, 20, 20, 20], 'Computer Science': [20, 20, 20, 20]}}\n",
            "{'first_name': 'Student2', 'last_name': 'Lastname', 'age': 18, 'country': 'Unknown', 'grades': {'Math': [20, 20, 20, 20], 'Physics': [20, 20, 20, 20], 'Chemistry': [20, 20, 20, 20], 'English': [20, 20, 20, 20], 'History': [20, 20, 20, 20], 'Biology': [20, 20, 20, 20], 'Computer Science': [20, 20, 20, 20]}}\n",
            "{'first_name': 'Student3', 'last_name': 'Lastname', 'age': 18, 'country': 'Unknown', 'grades': {'Math': [20, 20, 20, 20], 'Physics': [20, 20, 20, 20], 'Chemistry': [20, 20, 20, 20], 'English': [20, 20, 20, 20], 'History': [20, 20, 20, 20], 'Biology': [20, 20, 20, 20], 'Computer Science': [20, 20, 20, 20]}}\n",
            "{'first_name': 'Student4', 'last_name': 'Lastname', 'age': 18, 'country': 'Unknown', 'grades': {'Math': [20, 20, 20, 20], 'Physics': [20, 20, 20, 20], 'Chemistry': [20, 20, 20, 20], 'English': [20, 20, 20, 20], 'History': [20, 20, 20, 20], 'Biology': [20, 20, 20, 20], 'Computer Science': [20, 20, 20, 20]}}\n",
            "{'first_name': 'Student5', 'last_name': 'Lastname', 'age': 18, 'country': 'Unknown', 'grades': {'Math': [20, 20, 20, 20], 'Physics': [20, 20, 20, 20], 'Chemistry': [20, 20, 20, 20], 'English': [20, 20, 20, 20], 'History': [20, 20, 20, 20], 'Biology': [20, 20, 20, 20], 'Computer Science': [20, 20, 20, 20]}}\n",
            "{'first_name': 'Student6', 'last_name': 'Lastname', 'age': 18, 'country': 'Unknown', 'grades': {'Math': [20, 20, 20, 20], 'Physics': [20, 20, 20, 20], 'Chemistry': [20, 20, 20, 20], 'English': [20, 20, 20, 20], 'History': [20, 20, 20, 20], 'Biology': [20, 20, 20, 20], 'Computer Science': [20, 20, 20, 20]}}\n",
            "{'first_name': 'Student7', 'last_name': 'Lastname', 'age': 18, 'country': 'Unknown', 'grades': {'Math': [20, 20, 20, 20], 'Physics': [20, 20, 20, 20], 'Chemistry': [20, 20, 20, 20], 'English': [20, 20, 20, 20], 'History': [20, 20, 20, 20], 'Biology': [20, 20, 20, 20], 'Computer Science': [20, 20, 20, 20]}}\n",
            "{'first_name': 'Student8', 'last_name': 'Lastname', 'age': 18, 'country': 'Unknown', 'grades': {'Math': [20, 20, 20, 20], 'Physics': [20, 20, 20, 20], 'Chemistry': [20, 20, 20, 20], 'English': [20, 20, 20, 20], 'History': [20, 20, 20, 20], 'Biology': [20, 20, 20, 20], 'Computer Science': [20, 20, 20, 20]}}\n",
            "{'first_name': 'Student9', 'last_name': 'Lastname', 'age': 18, 'country': 'Unknown', 'grades': {'Math': [20, 20, 20, 20], 'Physics': [20, 20, 20, 20], 'Chemistry': [20, 20, 20, 20], 'English': [20, 20, 20, 20], 'History': [20, 20, 20, 20], 'Biology': [20, 20, 20, 20], 'Computer Science': [20, 20, 20, 20]}}\n",
            "{'first_name': 'Student10', 'last_name': 'Lastname', 'age': 18, 'country': 'Unknown', 'grades': {'Math': [20, 20, 20, 20], 'Physics': [20, 20, 20, 20], 'Chemistry': [20, 20, 20, 20], 'English': [20, 20, 20, 20], 'History': [20, 20, 20, 20], 'Biology': [20, 20, 20, 20], 'Computer Science': [20, 20, 20, 20]}}\n",
            "{'first_name': 'Student11', 'last_name': 'Lastname', 'age': 18, 'country': 'Unknown', 'grades': {'Math': [20, 20, 20, 20], 'Physics': [20, 20, 20, 20], 'Chemistry': [20, 20, 20, 20], 'English': [20, 20, 20, 20], 'History': [20, 20, 20, 20], 'Biology': [20, 20, 20, 20], 'Computer Science': [20, 20, 20, 20]}}\n",
            "{'first_name': 'Student12', 'last_name': 'Lastname', 'age': 18, 'country': 'Unknown', 'grades': {'Math': [20, 20, 20, 20], 'Physics': [20, 20, 20, 20], 'Chemistry': [20, 20, 20, 20], 'English': [20, 20, 20, 20], 'History': [20, 20, 20, 20], 'Biology': [20, 20, 20, 20], 'Computer Science': [20, 20, 20, 20]}}\n",
            "{'first_name': 'Student13', 'last_name': 'Lastname', 'age': 18, 'country': 'Unknown', 'grades': {'Math': [20, 20, 20, 20], 'Physics': [20, 20, 20, 20], 'Chemistry': [20, 20, 20, 20], 'English': [20, 20, 20, 20], 'History': [20, 20, 20, 20], 'Biology': [20, 20, 20, 20], 'Computer Science': [20, 20, 20, 20]}}\n",
            "{'first_name': 'Student14', 'last_name': 'Lastname', 'age': 18, 'country': 'Unknown', 'grades': {'Math': [20, 20, 20, 20], 'Physics': [20, 20, 20, 20], 'Chemistry': [20, 20, 20, 20], 'English': [20, 20, 20, 20], 'History': [20, 20, 20, 20], 'Biology': [20, 20, 20, 20], 'Computer Science': [20, 20, 20, 20]}}\n",
            "{'first_name': 'Student15', 'last_name': 'Lastname', 'age': 18, 'country': 'Unknown', 'grades': {'Math': [20, 20, 20, 20], 'Physics': [20, 20, 20, 20], 'Chemistry': [20, 20, 20, 20], 'English': [20, 20, 20, 20], 'History': [20, 20, 20, 20], 'Biology': [20, 20, 20, 20], 'Computer Science': [20, 20, 20, 20]}}\n",
            "{'first_name': 'Student16', 'last_name': 'Lastname', 'age': 18, 'country': 'Unknown', 'grades': {'Math': [20, 20, 20, 20], 'Physics': [20, 20, 20, 20], 'Chemistry': [20, 20, 20, 20], 'English': [20, 20, 20, 20], 'History': [20, 20, 20, 20], 'Biology': [20, 20, 20, 20], 'Computer Science': [20, 20, 20, 20]}}\n",
            "{'first_name': 'Student17', 'last_name': 'Lastname', 'age': 18, 'country': 'Unknown', 'grades': {'Math': [20, 20, 20, 20], 'Physics': [20, 20, 20, 20], 'Chemistry': [20, 20, 20, 20], 'English': [20, 20, 20, 20], 'History': [20, 20, 20, 20], 'Biology': [20, 20, 20, 20], 'Computer Science': [20, 20, 20, 20]}}\n",
            "{'first_name': 'Student18', 'last_name': 'Lastname', 'age': 18, 'country': 'Unknown', 'grades': {'Math': [20, 20, 20, 20], 'Physics': [20, 20, 20, 20], 'Chemistry': [20, 20, 20, 20], 'English': [20, 20, 20, 20], 'History': [20, 20, 20, 20], 'Biology': [20, 20, 20, 20], 'Computer Science': [20, 20, 20, 20]}}\n",
            "{'first_name': 'Student19', 'last_name': 'Lastname', 'age': 18, 'country': 'Unknown', 'grades': {'Math': [20, 20, 20, 20], 'Physics': [20, 20, 20, 20], 'Chemistry': [20, 20, 20, 20], 'English': [20, 20, 20, 20], 'History': [20, 20, 20, 20], 'Biology': [20, 20, 20, 20], 'Computer Science': [20, 20, 20, 20]}}\n",
            "{'first_name': 'Student20', 'last_name': 'Lastname', 'age': 18, 'country': 'Unknown', 'grades': {'Math': [20, 20, 20, 20], 'Physics': [20, 20, 20, 20], 'Chemistry': [20, 20, 20, 20], 'English': [20, 20, 20, 20], 'History': [20, 20, 20, 20], 'Biology': [20, 20, 20, 20], 'Computer Science': [20, 20, 20, 20]}}\n",
            "{'first_name': 'Student21', 'last_name': 'Lastname', 'age': 18, 'country': 'Unknown', 'grades': {'Math': [20, 20, 20, 20], 'Physics': [20, 20, 20, 20], 'Chemistry': [20, 20, 20, 20], 'English': [20, 20, 20, 20], 'History': [20, 20, 20, 20], 'Biology': [20, 20, 20, 20], 'Computer Science': [20, 20, 20, 20]}}\n",
            "{'first_name': 'Student22', 'last_name': 'Lastname', 'age': 18, 'country': 'Unknown', 'grades': {'Math': [20, 20, 20, 20], 'Physics': [20, 20, 20, 20], 'Chemistry': [20, 20, 20, 20], 'English': [20, 20, 20, 20], 'History': [20, 20, 20, 20], 'Biology': [20, 20, 20, 20], 'Computer Science': [20, 20, 20, 20]}}\n",
            "{'first_name': 'Student23', 'last_name': 'Lastname', 'age': 18, 'country': 'Unknown', 'grades': {'Math': [20, 20, 20, 20], 'Physics': [20, 20, 20, 20], 'Chemistry': [20, 20, 20, 20], 'English': [20, 20, 20, 20], 'History': [20, 20, 20, 20], 'Biology': [20, 20, 20, 20], 'Computer Science': [20, 20, 20, 20]}}\n",
            "{'first_name': 'Student24', 'last_name': 'Lastname', 'age': 18, 'country': 'Unknown', 'grades': {'Math': [20, 20, 20, 20], 'Physics': [20, 20, 20, 20], 'Chemistry': [20, 20, 20, 20], 'English': [20, 20, 20, 20], 'History': [20, 20, 20, 20], 'Biology': [20, 20, 20, 20], 'Computer Science': [20, 20, 20, 20]}}\n",
            "{'first_name': 'Student25', 'last_name': 'Lastname', 'age': 18, 'country': 'Unknown', 'grades': {'Math': [20, 20, 20, 20], 'Physics': [20, 20, 20, 20], 'Chemistry': [20, 20, 20, 20], 'English': [20, 20, 20, 20], 'History': [20, 20, 20, 20], 'Biology': [20, 20, 20, 20], 'Computer Science': [20, 20, 20, 20]}}\n",
            "{'first_name': 'Student26', 'last_name': 'Lastname', 'age': 18, 'country': 'Unknown', 'grades': {'Math': [20, 20, 20, 20], 'Physics': [20, 20, 20, 20], 'Chemistry': [20, 20, 20, 20], 'English': [20, 20, 20, 20], 'History': [20, 20, 20, 20], 'Biology': [20, 20, 20, 20], 'Computer Science': [20, 20, 20, 20]}}\n",
            "{'first_name': 'Student27', 'last_name': 'Lastname', 'age': 18, 'country': 'Unknown', 'grades': {'Math': [20, 20, 20, 20], 'Physics': [20, 20, 20, 20], 'Chemistry': [20, 20, 20, 20], 'English': [20, 20, 20, 20], 'History': [20, 20, 20, 20], 'Biology': [20, 20, 20, 20], 'Computer Science': [20, 20, 20, 20]}}\n",
            "{'first_name': 'Student28', 'last_name': 'Lastname', 'age': 18, 'country': 'Unknown', 'grades': {'Math': [20, 20, 20, 20], 'Physics': [20, 20, 20, 20], 'Chemistry': [20, 20, 20, 20], 'English': [20, 20, 20, 20], 'History': [20, 20, 20, 20], 'Biology': [20, 20, 20, 20], 'Computer Science': [20, 20, 20, 20]}}\n",
            "{'first_name': 'Student29', 'last_name': 'Lastname', 'age': 18, 'country': 'Unknown', 'grades': {'Math': [20, 20, 20, 20], 'Physics': [20, 20, 20, 20], 'Chemistry': [20, 20, 20, 20], 'English': [20, 20, 20, 20], 'History': [20, 20, 20, 20], 'Biology': [20, 20, 20, 20], 'Computer Science': [20, 20, 20, 20]}}\n",
            "{'first_name': 'Student30', 'last_name': 'Lastname', 'age': 18, 'country': 'Unknown', 'grades': {'Math': [20, 20, 20, 20], 'Physics': [20, 20, 20, 20], 'Chemistry': [20, 20, 20, 20], 'English': [20, 20, 20, 20], 'History': [20, 20, 20, 20], 'Biology': [20, 20, 20, 20], 'Computer Science': [20, 20, 20, 20]}}\n"
          ]
        }
      ]
    },
    {
      "cell_type": "code",
      "source": [
        "person = {\n",
        "    'first_name': 'Asabeneh',\n",
        "    'last_name': 'Yetayeh',\n",
        "    'age': 250,\n",
        "    'country': 'Finland',\n",
        "    'is_marred': True,\n",
        "    'skills': ['JavaScript', 'React', 'Node', 'MongoDB', 'Python'],\n",
        "    'address': {\n",
        "        'street': 'Space street',\n",
        "        'zipcode': '02210'\n",
        "    }\n",
        "}\n",
        "for key in person:\n",
        "    if key == 'skills':\n",
        "        for skill in person['skills']:\n",
        "          if skill==skill x and age >\n",
        "            print(skill)\n",
        "# afficher retenue si la personne possede cette competence et l'age entre 20 et 30 ans"
      ],
      "metadata": {
        "colab": {
          "base_uri": "https://localhost:8080/"
        },
        "id": "ecLuTj94qnpe",
        "outputId": "98afece4-94e5-4714-8e62-b79223b3c77f"
      },
      "execution_count": 33,
      "outputs": [
        {
          "output_type": "stream",
          "name": "stdout",
          "text": [
            "JavaScript\n",
            "React\n",
            "Node\n",
            "MongoDB\n",
            "Python\n"
          ]
        }
      ]
    },
    {
      "cell_type": "code",
      "source": [
        "person = {\n",
        "    'first_name': 'Asabeneh',\n",
        "    'last_name': 'Yetayeh',\n",
        "    'age': 250,\n",
        "    'country': 'Finland',\n",
        "    'is_marred': True,\n",
        "    'skills': ['JavaScript', 'React', 'Node', 'MongoDB', 'Python'],\n",
        "    'address': {\n",
        "        'street': 'Space street',\n",
        "        'zipcode': '02210'\n",
        "    }\n",
        "}\n",
        "\n",
        "skill_to_check = 'Python' # Replace with the skill you want to check\n",
        "\n",
        "if 'skills' in person and 20 <= person['age'] <= 30 :\n",
        "    if skill_to_check in person['skills']:\n",
        "        print(f\"The person has the skill '{skill_to_check}' and is between 20 and 30 years old.\")\n",
        "    else:\n",
        "        print(f\"The person does not have the skill '{skill_to_check}' or is not between 20 and 30 years old.\")\n",
        "else:\n",
        "    print(\"Either 'skills' key is missing or age is not within the specified range.\")"
      ],
      "metadata": {
        "colab": {
          "base_uri": "https://localhost:8080/"
        },
        "id": "rplvslFrthPx",
        "outputId": "92f3f31e-c14b-443a-c285-6df972f2fd86"
      },
      "execution_count": 34,
      "outputs": [
        {
          "output_type": "stream",
          "name": "stdout",
          "text": [
            "Either 'skills' key is missing or age is not within the specified range.\n"
          ]
        }
      ]
    },
    {
      "cell_type": "code",
      "source": [
        "person = {\n",
        "    'first_name': 'Asabeneh',\n",
        "    'last_name': 'Yetayeh',\n",
        "    'age': 250,\n",
        "    'country': 'Finland',\n",
        "    'is_marred': True,\n",
        "    'skills': ['JavaScript', 'React', 'Node', 'MongoDB', 'Python'],\n",
        "    'address': {\n",
        "        'street': 'Space street',\n",
        "        'zipcode': '02210'\n",
        "    }\n",
        "}\n",
        "\n",
        "skill_to_check = 'Python' # Replace with the skill you want to check\n",
        "\n",
        "if 'skills' in person and 20 <= person['age'] <= 30 :\n",
        "    if skill_to_check in person['skills']:\n",
        "        print(f\"The person has the skill '{skill_to_check}' and is between 20 and 30 years old.\")\n",
        "    else:\n",
        "        print(f\"The person does not have the skill '{skill_to_check}' or is not between 20 and 30 years old.\")\n",
        "else:\n",
        "    print(\"Either 'skills' key is missing or age is not within the specified range.\")"
      ],
      "metadata": {
        "id": "EWwlJqgNtovt"
      },
      "execution_count": null,
      "outputs": []
    }
  ]
}